{
 "cells": [
  {
   "cell_type": "code",
   "execution_count": 1,
   "id": "initial_id",
   "metadata": {
    "collapsed": true,
    "ExecuteTime": {
     "end_time": "2024-03-27T12:22:24.342566800Z",
     "start_time": "2024-03-27T12:22:12.323224500Z"
    }
   },
   "outputs": [],
   "source": [
    "import pandas as pd\n",
    "\n",
    "with open('koppers.csv', encoding='utf-8') as file:\n",
    "    press = pd.read_csv(file, sep=\";\")"
   ]
  },
  {
   "cell_type": "code",
   "outputs": [
    {
     "data": {
      "text/plain": "     ID                                               TEXT  \\\n0   946  Neue Wege zum Impfstoff: Besser und sauberer d...   \n1  2074  PRESSE-INFORMATION 27/95 (K.-A.) SEPTEMBER 199...   \n2   947  Bochum, 05.10.1995 Nr. 155 Angreifer durchscha...   \n3  1164  \"Einfluß der Mensch-Maschine-Schnittstelle auf...   \n4  1323  Bochum, 05.10.1995 Nr. 158 Neuer Kooperationsp...   \n\n                                               TITLE     PUBDATE  \\\n0  Jülich: Impfstoffe besser und sauberer durch G...  1995-10-06   \n1                                         EUROMIR 95  1995-10-06   \n2       Angreifer bei Zystischer Fibrose durchschaut  1995-10-05   \n3                  Technik menschengerecht gestalten  1995-10-05   \n4                 ZIT - Industr. Informatik eröffnet  1995-10-05   \n\n             AUTHOR CATEGORIES  INSTITUTION_ID  \\\n0     Peter Schäfer        NaN              50   \n1     Rudolf Schmid        NaN              34   \n2   Dr. Josef König        NaN               2   \n3  Jochen Brinkmann        NaN               3   \n4   Dr. Josef König        NaN               2   \n\n                                 INSTITUTION_NAME  \\\n0                        Forschungszentrum Jülich   \n1  Deutsches Zentrum für Luft- und Raumfahrt e.V.   \n2                         Ruhr-Universität Bochum   \n3                Technische Universität Clausthal   \n4                         Ruhr-Universität Bochum   \n\n                                          AUTHOR_JOB       AUTHOR_NAME  \\\n0  Mitarbeiter in der Presse- und Öffentlichkeits...     Peter Schäfer   \n1                                      keine Angaben     Rudolf Schmid   \n2  Mitarbeiter in der Presse- und Öffentlichkeits...   Dr. Josef König   \n3                                         Journalist  Jochen Brinkmann   \n4  Mitarbeiter in der Presse- und Öffentlichkeits...   Dr. Josef König   \n\n      RELEVANCE                                   FIELDS  \n0  überregional  Medizin;Ernährung / Gesundheit / Pflege  \n1  überregional                        Geowissenschaften  \n2  überregional  Medizin;Ernährung / Gesundheit / Pflege  \n3  überregional                             Maschinenbau  \n4  überregional                      Informationstechnik  ",
      "text/html": "<div>\n<style scoped>\n    .dataframe tbody tr th:only-of-type {\n        vertical-align: middle;\n    }\n\n    .dataframe tbody tr th {\n        vertical-align: top;\n    }\n\n    .dataframe thead th {\n        text-align: right;\n    }\n</style>\n<table border=\"1\" class=\"dataframe\">\n  <thead>\n    <tr style=\"text-align: right;\">\n      <th></th>\n      <th>ID</th>\n      <th>TEXT</th>\n      <th>TITLE</th>\n      <th>PUBDATE</th>\n      <th>AUTHOR</th>\n      <th>CATEGORIES</th>\n      <th>INSTITUTION_ID</th>\n      <th>INSTITUTION_NAME</th>\n      <th>AUTHOR_JOB</th>\n      <th>AUTHOR_NAME</th>\n      <th>RELEVANCE</th>\n      <th>FIELDS</th>\n    </tr>\n  </thead>\n  <tbody>\n    <tr>\n      <th>0</th>\n      <td>946</td>\n      <td>Neue Wege zum Impfstoff: Besser und sauberer d...</td>\n      <td>Jülich: Impfstoffe besser und sauberer durch G...</td>\n      <td>1995-10-06</td>\n      <td>Peter Schäfer</td>\n      <td>NaN</td>\n      <td>50</td>\n      <td>Forschungszentrum Jülich</td>\n      <td>Mitarbeiter in der Presse- und Öffentlichkeits...</td>\n      <td>Peter Schäfer</td>\n      <td>überregional</td>\n      <td>Medizin;Ernährung / Gesundheit / Pflege</td>\n    </tr>\n    <tr>\n      <th>1</th>\n      <td>2074</td>\n      <td>PRESSE-INFORMATION 27/95 (K.-A.) SEPTEMBER 199...</td>\n      <td>EUROMIR 95</td>\n      <td>1995-10-06</td>\n      <td>Rudolf Schmid</td>\n      <td>NaN</td>\n      <td>34</td>\n      <td>Deutsches Zentrum für Luft- und Raumfahrt e.V.</td>\n      <td>keine Angaben</td>\n      <td>Rudolf Schmid</td>\n      <td>überregional</td>\n      <td>Geowissenschaften</td>\n    </tr>\n    <tr>\n      <th>2</th>\n      <td>947</td>\n      <td>Bochum, 05.10.1995 Nr. 155 Angreifer durchscha...</td>\n      <td>Angreifer bei Zystischer Fibrose durchschaut</td>\n      <td>1995-10-05</td>\n      <td>Dr. Josef König</td>\n      <td>NaN</td>\n      <td>2</td>\n      <td>Ruhr-Universität Bochum</td>\n      <td>Mitarbeiter in der Presse- und Öffentlichkeits...</td>\n      <td>Dr. Josef König</td>\n      <td>überregional</td>\n      <td>Medizin;Ernährung / Gesundheit / Pflege</td>\n    </tr>\n    <tr>\n      <th>3</th>\n      <td>1164</td>\n      <td>\"Einfluß der Mensch-Maschine-Schnittstelle auf...</td>\n      <td>Technik menschengerecht gestalten</td>\n      <td>1995-10-05</td>\n      <td>Jochen Brinkmann</td>\n      <td>NaN</td>\n      <td>3</td>\n      <td>Technische Universität Clausthal</td>\n      <td>Journalist</td>\n      <td>Jochen Brinkmann</td>\n      <td>überregional</td>\n      <td>Maschinenbau</td>\n    </tr>\n    <tr>\n      <th>4</th>\n      <td>1323</td>\n      <td>Bochum, 05.10.1995 Nr. 158 Neuer Kooperationsp...</td>\n      <td>ZIT - Industr. Informatik eröffnet</td>\n      <td>1995-10-05</td>\n      <td>Dr. Josef König</td>\n      <td>NaN</td>\n      <td>2</td>\n      <td>Ruhr-Universität Bochum</td>\n      <td>Mitarbeiter in der Presse- und Öffentlichkeits...</td>\n      <td>Dr. Josef König</td>\n      <td>überregional</td>\n      <td>Informationstechnik</td>\n    </tr>\n  </tbody>\n</table>\n</div>"
     },
     "execution_count": 119,
     "metadata": {},
     "output_type": "execute_result"
    }
   ],
   "source": [
    "press.head()"
   ],
   "metadata": {
    "collapsed": false,
    "ExecuteTime": {
     "end_time": "2024-03-15T12:47:40.167766Z",
     "start_time": "2024-03-15T12:47:40.157102800Z"
    }
   },
   "id": "e1b5020a1efcb180",
   "execution_count": 119
  },
  {
   "cell_type": "code",
   "outputs": [],
   "source": [
    "press['TEXT'] = press['TEXT'].astype(str)"
   ],
   "metadata": {
    "collapsed": false,
    "ExecuteTime": {
     "end_time": "2024-03-27T12:22:24.390152200Z",
     "start_time": "2024-03-27T12:22:24.339792Z"
    }
   },
   "id": "2d2d3d59b35565eb",
   "execution_count": 2
  },
  {
   "cell_type": "code",
   "outputs": [],
   "source": [
    "import re\n",
    "\n",
    "wortliste = open('wortliste.txt', encoding='utf-8').readlines()[1:]\n",
    "wortliste = [re.sub(r'\\n', '', wort) for wort in wortliste]"
   ],
   "metadata": {
    "collapsed": false,
    "ExecuteTime": {
     "end_time": "2024-03-27T12:22:24.391155200Z",
     "start_time": "2024-03-27T12:22:24.377192300Z"
    }
   },
   "id": "610b4739c4ffddc6",
   "execution_count": 3
  },
  {
   "cell_type": "code",
   "outputs": [],
   "source": [
    "ergebnisse = press[press['CATEGORIES'].fillna('').str.contains('Forschungsergebnisse')]"
   ],
   "metadata": {
    "collapsed": false,
    "ExecuteTime": {
     "end_time": "2024-03-27T12:22:24.495291600Z",
     "start_time": "2024-03-27T12:22:24.388146600Z"
    }
   },
   "id": "fe351e204a7ae105",
   "execution_count": 4
  },
  {
   "cell_type": "code",
   "outputs": [
    {
     "data": {
      "text/plain": "pandas.core.frame.DataFrame"
     },
     "execution_count": 88,
     "metadata": {},
     "output_type": "execute_result"
    }
   ],
   "source": [
    "type(ergebnisse)"
   ],
   "metadata": {
    "collapsed": false,
    "ExecuteTime": {
     "end_time": "2024-03-15T07:46:07.208414800Z",
     "start_time": "2024-03-15T07:46:07.195727Z"
    }
   },
   "id": "fe78055fb9e0224a",
   "execution_count": 88
  },
  {
   "cell_type": "code",
   "outputs": [],
   "source": [
    "import random\n",
    "\n",
    "sample = ergebnisse.sample(50000)"
   ],
   "metadata": {
    "collapsed": false,
    "ExecuteTime": {
     "end_time": "2024-03-27T12:22:24.521229900Z",
     "start_time": "2024-03-27T12:22:24.497298Z"
    }
   },
   "id": "98720353ace7d721",
   "execution_count": 5
  },
  {
   "cell_type": "code",
   "outputs": [],
   "source": [
    "ergebnisse_text = sample['TEXT'].tolist()"
   ],
   "metadata": {
    "collapsed": false,
    "ExecuteTime": {
     "end_time": "2024-03-27T12:22:24.533261900Z",
     "start_time": "2024-03-27T12:22:24.516534300Z"
    }
   },
   "id": "36e0b6d8864888d5",
   "execution_count": 6
  },
  {
   "cell_type": "code",
   "outputs": [],
   "source": [
    "from nltk.tokenize import sent_tokenize\n",
    "\n",
    "#nltk.download('punkt')\n",
    "\n",
    "def tokenize_sentences_german(text):\n",
    "    return sent_tokenize(text, language='german') if isinstance(text, str) else None\n",
    "\n",
    "ergebnisse_saetze = [tokenize_sentences_german(text) for text in ergebnisse_text]"
   ],
   "metadata": {
    "collapsed": false,
    "ExecuteTime": {
     "end_time": "2024-03-27T12:22:47.990330800Z",
     "start_time": "2024-03-27T12:22:24.522233700Z"
    }
   },
   "id": "e966fe0039518e0c",
   "execution_count": 7
  },
  {
   "cell_type": "code",
   "outputs": [
    {
     "ename": "KeyboardInterrupt",
     "evalue": "",
     "output_type": "error",
     "traceback": [
      "\u001B[1;31m---------------------------------------------------------------------------\u001B[0m",
      "\u001B[1;31mKeyboardInterrupt\u001B[0m                         Traceback (most recent call last)",
      "Cell \u001B[1;32mIn[10], line 1\u001B[0m\n\u001B[1;32m----> 1\u001B[0m \u001B[38;5;28;01mimport\u001B[39;00m \u001B[38;5;21;01mspacy\u001B[39;00m\n\u001B[0;32m      3\u001B[0m nlp \u001B[38;5;241m=\u001B[39m spacy\u001B[38;5;241m.\u001B[39mload(\u001B[38;5;124m\"\u001B[39m\u001B[38;5;124mde_core_news_sm\u001B[39m\u001B[38;5;124m\"\u001B[39m)\n\u001B[0;32m      5\u001B[0m \u001B[38;5;28;01mdef\u001B[39;00m \u001B[38;5;21mtokenize_sentences_spacy\u001B[39m(text):\n\u001B[0;32m      6\u001B[0m     \u001B[38;5;66;03m# Ensure text is a string\u001B[39;00m\n",
      "File \u001B[1;32m~\\AppData\\Local\\anaconda3\\envs\\prodigy_env\\Lib\\site-packages\\spacy\\__init__.py:13\u001B[0m\n\u001B[0;32m     10\u001B[0m \u001B[38;5;66;03m# These are imported as part of the API\u001B[39;00m\n\u001B[0;32m     11\u001B[0m \u001B[38;5;28;01mfrom\u001B[39;00m \u001B[38;5;21;01mthinc\u001B[39;00m\u001B[38;5;21;01m.\u001B[39;00m\u001B[38;5;21;01mapi\u001B[39;00m \u001B[38;5;28;01mimport\u001B[39;00m Config, prefer_gpu, require_cpu, require_gpu  \u001B[38;5;66;03m# noqa: F401\u001B[39;00m\n\u001B[1;32m---> 13\u001B[0m \u001B[38;5;28;01mfrom\u001B[39;00m \u001B[38;5;21;01m.\u001B[39;00m \u001B[38;5;28;01mimport\u001B[39;00m pipeline  \u001B[38;5;66;03m# noqa: F401\u001B[39;00m\n\u001B[0;32m     14\u001B[0m \u001B[38;5;28;01mfrom\u001B[39;00m \u001B[38;5;21;01m.\u001B[39;00m \u001B[38;5;28;01mimport\u001B[39;00m util\n\u001B[0;32m     15\u001B[0m \u001B[38;5;28;01mfrom\u001B[39;00m \u001B[38;5;21;01m.\u001B[39;00m\u001B[38;5;21;01mabout\u001B[39;00m \u001B[38;5;28;01mimport\u001B[39;00m __version__  \u001B[38;5;66;03m# noqa: F401\u001B[39;00m\n",
      "File \u001B[1;32m~\\AppData\\Local\\anaconda3\\envs\\prodigy_env\\Lib\\site-packages\\spacy\\pipeline\\__init__.py:3\u001B[0m\n\u001B[0;32m      1\u001B[0m \u001B[38;5;28;01mfrom\u001B[39;00m \u001B[38;5;21;01m.\u001B[39;00m\u001B[38;5;21;01mattributeruler\u001B[39;00m \u001B[38;5;28;01mimport\u001B[39;00m AttributeRuler\n\u001B[0;32m      2\u001B[0m \u001B[38;5;28;01mfrom\u001B[39;00m \u001B[38;5;21;01m.\u001B[39;00m\u001B[38;5;21;01mdep_parser\u001B[39;00m \u001B[38;5;28;01mimport\u001B[39;00m DependencyParser\n\u001B[1;32m----> 3\u001B[0m \u001B[38;5;28;01mfrom\u001B[39;00m \u001B[38;5;21;01m.\u001B[39;00m\u001B[38;5;21;01medit_tree_lemmatizer\u001B[39;00m \u001B[38;5;28;01mimport\u001B[39;00m EditTreeLemmatizer\n\u001B[0;32m      4\u001B[0m \u001B[38;5;28;01mfrom\u001B[39;00m \u001B[38;5;21;01m.\u001B[39;00m\u001B[38;5;21;01mentity_linker\u001B[39;00m \u001B[38;5;28;01mimport\u001B[39;00m EntityLinker\n\u001B[0;32m      5\u001B[0m \u001B[38;5;28;01mfrom\u001B[39;00m \u001B[38;5;21;01m.\u001B[39;00m\u001B[38;5;21;01mentityruler\u001B[39;00m \u001B[38;5;28;01mimport\u001B[39;00m EntityRuler\n",
      "File \u001B[1;32m~\\AppData\\Local\\anaconda3\\envs\\prodigy_env\\Lib\\site-packages\\spacy\\pipeline\\edit_tree_lemmatizer.py:16\u001B[0m\n\u001B[0;32m     14\u001B[0m \u001B[38;5;28;01mfrom\u001B[39;00m \u001B[38;5;21;01m.\u001B[39;00m\u001B[38;5;21;01m.\u001B[39;00m\u001B[38;5;21;01mtraining\u001B[39;00m \u001B[38;5;28;01mimport\u001B[39;00m Example, validate_examples, validate_get_examples\n\u001B[0;32m     15\u001B[0m \u001B[38;5;28;01mfrom\u001B[39;00m \u001B[38;5;21;01m.\u001B[39;00m\u001B[38;5;21;01m.\u001B[39;00m\u001B[38;5;21;01mvocab\u001B[39;00m \u001B[38;5;28;01mimport\u001B[39;00m Vocab\n\u001B[1;32m---> 16\u001B[0m \u001B[38;5;28;01mfrom\u001B[39;00m \u001B[38;5;21;01m.\u001B[39;00m\u001B[38;5;21;01m_edit_tree_internals\u001B[39;00m\u001B[38;5;21;01m.\u001B[39;00m\u001B[38;5;21;01medit_trees\u001B[39;00m \u001B[38;5;28;01mimport\u001B[39;00m EditTrees\n\u001B[0;32m     17\u001B[0m \u001B[38;5;28;01mfrom\u001B[39;00m \u001B[38;5;21;01m.\u001B[39;00m\u001B[38;5;21;01m_edit_tree_internals\u001B[39;00m\u001B[38;5;21;01m.\u001B[39;00m\u001B[38;5;21;01mschemas\u001B[39;00m \u001B[38;5;28;01mimport\u001B[39;00m validate_edit_tree\n\u001B[0;32m     18\u001B[0m \u001B[38;5;28;01mfrom\u001B[39;00m \u001B[38;5;21;01m.\u001B[39;00m\u001B[38;5;21;01mlemmatizer\u001B[39;00m \u001B[38;5;28;01mimport\u001B[39;00m lemmatizer_score\n",
      "File \u001B[1;32m~\\AppData\\Local\\anaconda3\\envs\\prodigy_env\\Lib\\site-packages\\spacy\\pipeline\\_edit_tree_internals\\edit_trees.pyx:14\u001B[0m, in \u001B[0;36minit spacy.pipeline._edit_tree_internals.edit_trees\u001B[1;34m()\u001B[0m\n",
      "File \u001B[1;32m<frozen importlib._bootstrap>:1360\u001B[0m, in \u001B[0;36m_find_and_load\u001B[1;34m(name, import_)\u001B[0m\n",
      "File \u001B[1;32m<frozen importlib._bootstrap>:1331\u001B[0m, in \u001B[0;36m_find_and_load_unlocked\u001B[1;34m(name, import_)\u001B[0m\n",
      "File \u001B[1;32m<frozen importlib._bootstrap>:935\u001B[0m, in \u001B[0;36m_load_unlocked\u001B[1;34m(spec)\u001B[0m\n",
      "File \u001B[1;32m<frozen importlib._bootstrap_external>:991\u001B[0m, in \u001B[0;36mexec_module\u001B[1;34m(self, module)\u001B[0m\n",
      "File \u001B[1;32m<frozen importlib._bootstrap_external>:1087\u001B[0m, in \u001B[0;36mget_code\u001B[1;34m(self, fullname)\u001B[0m\n",
      "File \u001B[1;32m<frozen importlib._bootstrap_external>:1186\u001B[0m, in \u001B[0;36mget_data\u001B[1;34m(self, path)\u001B[0m\n",
      "\u001B[1;31mKeyboardInterrupt\u001B[0m: "
     ]
    }
   ],
   "source": [
    "import spacy\n",
    "\n",
    "nlp = spacy.load(\"de_core_news_sm\")\n",
    "\n",
    "def tokenize_sentences_spacy(text):\n",
    "    # Ensure text is a string\n",
    "    if isinstance(text, str):\n",
    "        doc = nlp(text)\n",
    "        return [sent.text for sent in doc.sents]\n",
    "    else:\n",
    "        return None\n",
    "\n",
    "ergebnisse_saetze_spacy = [tokenize_sentences_spacy(text) for text in ergebnisse_text]\n"
   ],
   "metadata": {
    "collapsed": false,
    "ExecuteTime": {
     "end_time": "2024-03-27T10:39:40.960175200Z",
     "start_time": "2024-03-27T10:39:38.565546300Z"
    }
   },
   "id": "87a25e6a086c82b8",
   "execution_count": 10
  },
  {
   "cell_type": "code",
   "outputs": [
    {
     "data": {
      "text/plain": "['In Schule, Ausbildung und Studium haben Mädchen und junge Frauen mächtig aufgeholt:',\n 'In den Schulen sind sie den Jungen vor allem im schriftsprachlichen Bereich weit voraus.',\n 'Waren an den Gymnasien im Jahr 1960 noch 40 Prozent Schülerinnen und 60 Prozent Schüler vertreten, so hat sich dieses Verhältnis mittlerweile umgekehrt.',\n 'Junge Frauen schließen die Schule häufiger mit qualifizierten Abschlüssen ab als ihre männlichen Mitstreiter.',\n '50 Prozent der Studienabschlüsse gehen auf das Konto von Studentinnen, und sie schneiden auch mit besseren Noten ab als Studenten.',\n 'Während das Bildungsniveau von Männern allgemein stagniert, steigt es bei den Frauen kontinuierlich an.',\n 'Das sind enorme Fortschritte in Sachen Bildung.',\n 'Geht es aber um Geld und Macht, zeigt sich ein anderes Bild.',\n 'Schon in der Ausbildung liegen die Vergütungen für die typischen Frauenberufe weit unter denen der männlichen Azubis.',\n 'Auch bei Arbeitern und Angestellten erzielen Frauen noch immer geringere Einkommen.',\n 'Bei der Lohngleichheit ist Deutschland das Schlusslicht unter den EU-Staaten.',\n 'Der Anteil der C4-Professorinnen an den Universitäten beläuft sich auf gerade einmal 8.6 Prozent.',\n 'In den Führungsetagen der deutschen Wirtschaft sind Frauen kaum zu finden.',\n 'Nur ungefähr 5 Prozent der Aufsichtsratsposten sind von Frauen besetzt.',\n 'Frauen sind nicht nur seltener Managerin, sondern sie sind auch häufiger von Arbeitslosigkeit betroffen und geraten schneller in Armut.',\n 'Daran haben Gleichstellungsgesetze bislang nichts ändern können.',\n 'Im Unterschied zu anderen Ländern wie Großbritannien, Belgien oder Holland beginnt die private Wirtschaft in Deutschland erst langsam zu begreifen, dass sie in ihrem eigenen Interesse nicht dauerhaft auf das wertvolle Humankapital ihrer weiblichen Arbeitskräfte verzichten kann.',\n 'Details zu gesetzlichen Regelungen, Bildung, Erwerbsleben und sozialer Sicherung fasst die Rubrik \"',\n 'Auf einen Blick\" zusammen.',\n 'Hinsichtlich der Gleichstellung am Arbeitsplatz ist also noch viel zu tun.',\n 'Vor dem Hintergrund sinkender Geburtenraten, steigender Lebenserwartung und einem zu erwartenden Fachkräftemangel müsste mittlerweile allen klar sein, dass dies nicht nur im Interesse der Frauen, sondern der gesamten Gesellschaft geschieht.',\n 'Funktionieren kann das aber nur, wenn Männer und Frauen Berufsarbeit und Familienarbeit in Zukunft gerechter aufteilen.',\n 'Das betont auch PD Dr. Waltraud Cornelißen, die am Deutschen Jugendinstitut die Abteilung Geschlechterforschung und Frauenpolitik leitet im \"Interview\".',\n 'Teilzeitarbeit zum Beispiel ist noch immer eine Domäne der Frauen, die dadurch versuchen, Familie und Beruf unter einen Hut zu bekommen.',\n 'Auch im Familienalltag ist Gleichberechtigung zumeist \"befristet\" - bis zum ersten Kind.',\n 'Danach beginnen trotz guter Vorsätze selbst in fortschrittlich gesinnten Partnerschaften die traditionellen Rollenmuster ihre für Frauen nachteilige Wirkung zu entfalten.',\n 'Diese überkommenen Rollenmuster gilt es zu überwinden, wenn Gleichberechtigung nicht in der Theorie stecken bleiben soll.',\n 'Am besten beginnt man damit schon in der Schule.',\n 'Wie wichtig Selbstreflexion und Genderkompetenz der Lehrer und Lehrerinnen für eine Geschlechtergerechte Bildungssituation sind, erklärt Dr. Hannelore Faulstich-Wieland, Professorin für Erziehungswissenschaften in ihrem \"Blick von außen\".',\n 'Und der Soziologe PD Dr. Michael Meuser beantwortet in seinem \"Blick von außen\" die Frage, ob und wie die Politik des Gender Mainstreaming in die subtilen Mechanismen von Geschlecht und Organisation nachhaltig und positiv eingreifen kann.',\n 'Eine ausführliche Liste einschlägiger Links sowie Tipps für eine weiterführende Lektüre zum Thema Geschlechtergerechtigkeit runden das Thema ab.']"
     },
     "execution_count": 139,
     "metadata": {},
     "output_type": "execute_result"
    }
   ],
   "source": [
    "ergebnisse_saetze_spacy[0]"
   ],
   "metadata": {
    "collapsed": false,
    "ExecuteTime": {
     "end_time": "2024-03-16T19:35:58.494243700Z",
     "start_time": "2024-03-16T19:35:58.481529Z"
    }
   },
   "id": "5de02348f285a7ba",
   "execution_count": 139
  },
  {
   "cell_type": "code",
   "outputs": [
    {
     "data": {
      "text/plain": "['Auf Basis der repräsentativen Nationalen Verzehrsstudie II (NVS II) haben Wissenschaftler des Max Rubner-Instituts ausgewertet, welche Vitamine und Mineralstoffe von der Bevölkerung in Deutschland als Nahrungsergänzungsmittel oder sogenannte Supplemente verwendet und welche Nährstoffmengen dadurch zugeführt werden.',\n 'Unter Supplementen versteht man dabei alle nicht über Lebensmittel zugeführten Nährstoffe, also Nahrungsergänzungsmittel, aber auch Medikamente mit Vitamin- oder Mineralstoffzusatz, etwa Schmerzmittel mit Vitamin C. Es wurde zudem die Gesamtnährstoffzufuhr an Vitaminen und Mineralstoffen betrachtet, die aus der Nährstoffzufuhr über Lebensmittel und Supplemente resultiert.',\n 'In der NVS II mussten die Teilnehmer unter anderem an zwei Tagen – ohne vorherige Ankündigung der Termine – detaillierte Auskunft über den gesamten Verzehr der letzten 24 Stunden geben (die 24-Stunden-Recall-Methode), dabei wurde auch abgefragt, ob und welche Supplemente die Teilnehmer am Befragungstag genommen hatten.',\n 'Von den 15-80-jährigen NVS II-Teilnehmern (die Stichprobe umfasste mehr als 13.700 Personen), die für die Auswertung herangezogen wurden, gilt als Supplement-Nehmer, wer an mindestens einem der beiden Befragungstage Nährstoffe supplementiert hatte.',\n 'Es zeigte sich, dass obwohl in Deutschland im Allgemeinen ausreichend Nährstoffe über Lebensmittel aufgenommen werden, ein erheblicher Teil der Bevölkerung zu Supplementen greift (fast ein Viertel).',\n 'Dabei nehmen gerade die Personen Supplemente, die bereits durch eine günstige Lebensmittelauswahl eine gute Nährstoffzufuhr haben.',\n 'Dadurch steigt die jeweilige Nährstoffzufuhr erheblich, bis hin zu einer Überschreitung der von der Europäischen Behörde für Lebensmittelsicherheit (EFSA) angegebenen tolerierbaren Tageshöchstmenge.',\n 'Ohne Berücksichtigung der zugeführten Nährstoffmengen über Supplemente ergab die Auswertung für die Gruppe der Supplement-Nehmer bei vielen über Lebensmittel zugeführten Nährstoffen eine höhere Zufuhr (z.',\n 'B. an Folat, Magnesium) als bei Personen, die keine Supplemente verwenden.',\n 'Die Auswertung zeigte, dass mehr Frauen als Männer Supplemente einnehmen (30 % vs.',\n '19 %).',\n 'Der Anteil der Supplementnehmer in der Bevölkerung liegt möglicherweise jedoch noch höher, da die unregelmäßige oder periodisch erfolgende Einnahme methodisch bedingt nicht erfasst werden konnte.',\n 'Den geringsten Anteil an Supplement-Nehmern fanden die Wissenschaftler in der Gruppe der 15 bis 18-jährigen Frauen (10 %) und den 19-24-jährigen Männern (12 %), wohingegen der Anteil in der Gruppe der 65-80-jährigen bei beiden Geschlechtern am höchsten ist (Frauen: 46 %; Männer: 30 %).',\n 'Sowohl von Männern als auch von Frauen werden am häufigsten die Vitamine C und E sowie die Mineralstoffe Magnesium und Calcium supplementiert.',\n 'Beurteilt wird die Versorgung auf Basis der von der Deutschen Gesellschaft für Ernährung zusammen mit den entsprechenden Fachverbänden in der Schweiz und in Österreich herausgegebenen Referenzwerten (D-A-CH-Referenzwerte).',\n 'Für Vitamin C, E, Niacin und Folsäure erreichen die Befragten allein durch Supplemente im Mittel zwischen 50 und 100 Prozent des Referenzwertes, für die Vitamine B1, B2 und B6 liegen sie sogar oberhalb des entsprechenden Wertes.',\n 'Über Lebensmittel und Supplemente zusammen erreichen Supplement-Nehmer im Mittel bei allen untersuchten Nährstoffen (mit Ausnahme von Jod) die jeweiligen Referenzwerte beziehungsweise überschreiten diese teilweise erheblich.',\n 'Bei den Vitaminen B1, B2, B6 und C sowie Vitamin B12 (bei Männern) beträgt die mittlere Gesamtnährstoffzufuhr etwa das Doppelte des D A CH Referenzwerts und bei Niacin das Dreifache.',\n 'Die von der EFSA angegebene tolerierbare Tageshöchstmenge wird insbesondere überschritten bei Magnesium und Vitamin A (von 16 % bzw. 13 % der jeweiligen Supplement-Nehmer).',\n 'Bei Jod ist zu beachten, dass zur Berechnung der Jodzufuhr die Zufuhr über jodiertes Speisesalz bzw. über damit hergestellte Lebensmittel nicht berücksichtigt wurde.']"
     },
     "execution_count": 8,
     "metadata": {},
     "output_type": "execute_result"
    }
   ],
   "source": [
    "ergebnisse_saetze[0]"
   ],
   "metadata": {
    "collapsed": false,
    "ExecuteTime": {
     "end_time": "2024-03-27T12:22:54.420252400Z",
     "start_time": "2024-03-27T12:22:54.405526400Z"
    }
   },
   "id": "e4ceea79fb3d66df",
   "execution_count": 8
  },
  {
   "cell_type": "code",
   "outputs": [],
   "source": [
    "import nltk\n",
    "from nltk.corpus import stopwords\n",
    "from nltk.stem.snowball import SnowballStemmer\n",
    "\n",
    "#nltk.download('stopwords')\n",
    "\n",
    "stop_words = set(stopwords.words('german'))\n",
    "stemmer = SnowballStemmer('german')\n",
    "\n",
    "#import spacy\n",
    "#nlp = spacy.load(\"de_core_news_sm\")\n",
    "\n",
    "def preprocess(text):\n",
    "    #text = text.lower()\n",
    "    #text = re.sub(r'[^\\w\\s]', '', text)\n",
    "    #text = re.sub(r'\\d+', '', text)\n",
    "    #text = re.sub(r'\\s+', ' ', text)\n",
    "    text = text.split()\n",
    "    #text = [word for word in text if word not in stop_words]\n",
    "    text = [stemmer.stem(word) for word in text]\n",
    "    return \" \".join(text)\n",
    "    "
   ],
   "metadata": {
    "collapsed": false,
    "ExecuteTime": {
     "end_time": "2024-03-27T12:23:01.559146300Z",
     "start_time": "2024-03-27T12:23:01.553156400Z"
    }
   },
   "id": "e912033e856f2c6e",
   "execution_count": 9
  },
  {
   "cell_type": "code",
   "outputs": [],
   "source": [
    "ergebnisse_saetze_processed = [[preprocess(satz) for satz in text] for text in ergebnisse_saetze]"
   ],
   "metadata": {
    "collapsed": false,
    "ExecuteTime": {
     "end_time": "2024-03-27T12:46:14.510071300Z",
     "start_time": "2024-03-27T12:44:46.609587900Z"
    }
   },
   "id": "6c351539b8194478",
   "execution_count": 23
  },
  {
   "cell_type": "code",
   "outputs": [
    {
     "data": {
      "text/plain": "['auf basis der reprasentativ national verzehrsstudi ii (nvs ii) hab wissenschaftl des max rubner-institut ausgewertet, welch vitamin und mineralstoff von der bevolker in deutschland als nahrungserganzungsmittel oder sogenannt supplement verwendet und welch nahrstoffmeng dadurch zugefuhrt werden.',\n 'unt supplement versteht man dabei all nicht uber lebensmittel zugefuhrt nahrstoffe, also nahrungserganzungsmittel, aber auch medikament mit vitamin- oder mineralstoffzusatz, etwa schmerzmittel mit vitamin c. es wurd zud die gesamtnahrstoffzufuhr an vitamin und mineralstoff betrachtet, die aus der nahrstoffzufuhr uber lebensmittel und supplement resultiert.',\n 'in der nvs ii musst die teilnehm unt and an zwei tag – ohn vorher ankund der termin – detailliert auskunft uber den gesamt verzehr der letzt 24 stund geb (die 24-stunden-recall-methode), dabei wurd auch abgefragt, ob und welch supplement die teilnehm am befragungstag genomm hatten.',\n 'von den 15-80-jahrig nvs ii-teilnehm (die stichprob umfasst mehr als 13.700 personen), die fur die auswert herangezog wurden, gilt als supplement-nehmer, wer an mindest ein der beid befragungstag nahrstoff supplementiert hatte.',\n 'es zeigt sich, dass obwohl in deutschland im allgemein ausreich nahrstoff uber lebensmittel aufgenomm werden, ein erheb teil der bevolker zu supplement greift (fast ein viertel).',\n 'dabei nehm gerad die person supplemente, die bereit durch ein gunstig lebensmittelauswahl ein gut nahrstoffzufuhr haben.',\n 'dadurch steigt die jeweil nahrstoffzufuhr erheblich, bis hin zu ein uberschreit der von der europa behord fur lebensmittelsich (efsa) angegeb tolerierbar tageshochstmenge.',\n 'ohn berucksicht der zugefuhrt nahrstoffmeng uber supplement ergab die auswert fur die grupp der supplement-nehm bei viel uber lebensmittel zugefuhrt nahrstoff ein hoh zufuhr (z.',\n 'b. an folat, magnesium) als bei personen, die kein supplement verwenden.',\n 'die auswert zeigte, dass mehr frau als mann supplement einnehm (30 % vs.',\n '19 %).',\n 'der anteil der supplementnehm in der bevolker liegt moglicherweis jedoch noch hoher, da die unregelmass oder period erfolg einnahm method bedingt nicht erfasst werd konnte.',\n 'den gering anteil an supplement-nehm fand die wissenschaftl in der grupp der 15 bis 18-jahrig frau (10 %) und den 19-24-jahrig mann (12 %), wohingeg der anteil in der grupp der 65-80-jahrig bei beid geschlecht am hoch ist (frauen: 46 %; manner: 30 %).',\n 'sowohl von mann als auch von frau werd am haufig die vitamin c und e sowi die mineralstoff magnesium und calcium supplementiert.',\n 'beurteilt wird die versorg auf basis der von der deutsch gesellschaft fur ernahr zusamm mit den entsprech fachverband in der schweiz und in osterreich herausgegeb referenzwert (d-a-ch-referenzwerte).',\n 'fur vitamin c, e, niacin und folsaur erreich die befragt allein durch supplement im mittel zwisch 50 und 100 prozent des referenzwertes, fur die vitamin b1, b2 und b6 lieg sie sogar oberhalb des entsprech wertes.',\n 'uber lebensmittel und supplement zusamm erreich supplement-nehm im mittel bei all untersucht nahrstoff (mit ausnahm von jod) die jeweil referenzwert beziehungsweis uberschreit dies teilweis erheblich.',\n 'bei den vitamin b1, b2, b6 und c sowi vitamin b12 (bei mannern) betragt die mittl gesamtnahrstoffzufuhr etwa das doppelt des d a ch referenzwert und bei niacin das dreifache.',\n 'die von der efsa angegeb tolerierbar tageshochstmeng wird insbesond uberschritt bei magnesium und vitamin a (von 16 % bzw. 13 % der jeweil supplement-nehmer).',\n 'bei jod ist zu beachten, dass zur berechn der jodzufuhr die zufuhr uber jodiert speisesalz bzw. uber damit hergestellt lebensmittel nicht berucksichtigt wurde.']"
     },
     "execution_count": 24,
     "metadata": {},
     "output_type": "execute_result"
    }
   ],
   "source": [
    "ergebnisse_saetze_processed[0]"
   ],
   "metadata": {
    "collapsed": false,
    "ExecuteTime": {
     "end_time": "2024-03-27T12:46:24.556729200Z",
     "start_time": "2024-03-27T12:46:24.547738700Z"
    }
   },
   "id": "3f8e2ee14bd6421",
   "execution_count": 24
  },
  {
   "cell_type": "code",
   "outputs": [],
   "source": [
    "import spacy\n",
    "nlp = spacy.load('de_core_news_sm')\n",
    "\n",
    "word_list_lemma = []\n",
    "\n",
    "for word in wortliste:\n",
    "     doc = nlp(word)\n",
    "     result = ' '.join([x.lemma_ for x in doc]) \n",
    "     word_list_lemma.append(result)"
   ],
   "metadata": {
    "collapsed": false,
    "ExecuteTime": {
     "end_time": "2024-03-27T12:23:24.025384700Z",
     "start_time": "2024-03-27T12:23:14.072919900Z"
    }
   },
   "id": "70f6f69ff2e085a1",
   "execution_count": 10
  },
  {
   "cell_type": "code",
   "outputs": [],
   "source": [
    "word_list_lemma = list(set(word_list_lemma))"
   ],
   "metadata": {
    "collapsed": false,
    "ExecuteTime": {
     "end_time": "2024-03-27T12:30:06.795234600Z",
     "start_time": "2024-03-27T12:30:06.790253700Z"
    }
   },
   "id": "6cb9ae283995c08a",
   "execution_count": 11
  },
  {
   "cell_type": "code",
   "outputs": [],
   "source": [
    "wortliste_processed = list(set([preprocess(word) for word in wortliste]))"
   ],
   "metadata": {
    "collapsed": false,
    "ExecuteTime": {
     "end_time": "2024-03-27T12:30:08.648804100Z",
     "start_time": "2024-03-27T12:30:08.636642700Z"
    }
   },
   "id": "474308683834f3f4",
   "execution_count": 12
  },
  {
   "cell_type": "code",
   "outputs": [
    {
     "data": {
      "text/plain": "['einfallsreich',\n 'exzellenz',\n 'hervorstech',\n 'unerhort',\n 'faszination',\n 'unuebertroff',\n 'zukunft',\n 'nachhalt',\n 'rett',\n 'beruh',\n 'fuhrung',\n 'erheb',\n 'geneigt',\n 'wunderwerk',\n 'aussichtsreich',\n 'genial',\n 'hoffnungsvoll',\n 'vortreff',\n 'zukunftssich',\n 'wegweis',\n 'lohn',\n 'groesst',\n 'beachtenswert',\n 'vielfaelt',\n 'revolutiona',\n 'anspruech',\n 'best',\n 'extr',\n 'hochwert',\n 'intelligent',\n 'sehr',\n 'geheimnisvoll',\n 'standort',\n 'genes',\n 'herausrag',\n 'gut',\n 'anreg',\n 'ideal',\n 'bedeut',\n 'inspirier',\n 'intelligenz',\n 'maximal',\n 'fuehr',\n 'game-chang',\n 'verantwortungsvoll',\n 'wund',\n 'mysterio',\n 'spektakula',\n 'begeister',\n 'unubertroff',\n 'verbluff',\n 'durchbruch',\n 'vorzug',\n 'klassisch',\n 'hilfreich',\n 'vielfalt',\n 'bewaehrt',\n 'unglaub',\n 'vollend',\n 'wirklich',\n 'wuerdig',\n 'talent',\n 'gescheit',\n 'jubel',\n 'extra',\n 'toll',\n 'gewalt',\n 'unerhoert',\n 'unerreich',\n 'wurdig',\n 'exzellent',\n 'grosst',\n 'besond',\n 'einfallsreichtum',\n 'ruhm',\n 'positiv',\n 'riesig',\n 'eindruck',\n 'stabil',\n 'geschaetzt',\n 'fabelhaft',\n 'erstklass',\n 'erwart',\n 'schlusseltechnologi',\n 'verzweifl',\n 'unterstuetz',\n 'uberrasch',\n 'naturphanom',\n 'ohnegleich',\n 'anspruchsvoll',\n 'massgeschneidert',\n 'bemerkenswert',\n 'prominent',\n 'vollkomm',\n 'fantast',\n 'wahrheit',\n 'renommiert',\n 'tadellos',\n 'grossart',\n 'expertis',\n 'highlight',\n 'qualitat',\n 'bekannt',\n 'newcom',\n 'ziel',\n 'verbesser',\n 'bahnbrech',\n 'sup',\n 'ries',\n 'triumphier',\n 'beruehmt',\n 'einzig',\n 'durchbruech',\n 'verantwort',\n 'ungeheu',\n 'triumph',\n 'schluessel',\n 'revolutionar',\n 'uberleg',\n 'anspruch',\n 'fortschritt',\n 'verheissungsvoll',\n 'freu',\n 'mod',\n 'nutz',\n 'auffall',\n 'ausgezeichnet',\n 'unschlagbar',\n 'hoffnung',\n 'unfassbar',\n 'neu',\n 'phaenomenal',\n 'aussergewoehn',\n 'originell',\n 'kaempf',\n 'jung',\n 'phanomenal',\n 'zuversicht',\n 'entscheid',\n 'uberzeug',\n 'erwartungsvoll',\n 'ungewoehn',\n 'weltklass',\n 'heil',\n 'schatz',\n 'entschied',\n 'krass',\n 'aufreg',\n 'begeist',\n 'sich',\n 'original',\n 'vollendet',\n 'mehr',\n 'verheer',\n 'schlussel-',\n 'sensationell',\n 'erfindungsreich',\n 'glorreich',\n 'gluecklich',\n 'kampf',\n 'unterstutz',\n 'glucklich',\n 'spitz',\n 'freud',\n 'schutz',\n 'superlativ',\n 'gluck',\n 'enorm',\n 'gunstig',\n 'einzigart',\n 'innovativ',\n 'beachtlich',\n 'skandal',\n 'beachtenwert',\n 'grandios',\n 'imm',\n 'bewahrt',\n 'leidenschaft',\n 'schoepfer',\n 'ueberleg',\n 'vorzueg',\n 'ermut',\n 'hohepunkt',\n 'chanc',\n 'vorteilhaft',\n 'weltweit',\n 'ausserordent',\n 'versprech',\n 'faszinier',\n 'robust',\n 'leistung',\n 'kreativ',\n 'mysterios',\n 'originalitat',\n 'ungewohn',\n 'zustimm',\n 'gamechang',\n 'eindrueck',\n 'sensation',\n 'sagenhaft',\n 'erstaun',\n 'staun',\n 'meilenstein',\n 'unvergleich',\n 'bestat',\n 'vielversprech',\n 'leist',\n 'modernisier',\n 'heilung',\n 'spektakular',\n 'universell',\n 'aussergewohn',\n 'renommi',\n 'schopfer',\n 'wunderbar',\n 'hilfsbereit',\n 'inspiration',\n 'erfind',\n 'eindrucksvoll',\n 'innovation',\n 'beruhmt',\n 'absolut',\n 'erfolg',\n 'nie',\n 'wundervoll',\n 'noch',\n 'beispiellos',\n 'hervorrag',\n 'skandalos',\n 'bewi',\n 'einmal',\n 'ruehm',\n 'wertvoll',\n 'lebensretterin',\n 'geschatzt',\n 'schuetz',\n 'unerreicht',\n 'bejah',\n 'beweis',\n 'erfinder',\n 'allein']"
     },
     "execution_count": 13,
     "metadata": {},
     "output_type": "execute_result"
    }
   ],
   "source": [
    "wortliste_processed"
   ],
   "metadata": {
    "collapsed": false,
    "ExecuteTime": {
     "end_time": "2024-03-27T12:30:10.108436600Z",
     "start_time": "2024-03-27T12:30:10.090462900Z"
    }
   },
   "id": "41624d7ba7c97eb",
   "execution_count": 13
  },
  {
   "cell_type": "code",
   "outputs": [],
   "source": [
    "def count_occurrences(text, word_list):\n",
    "    count = 0\n",
    "    text = ' '.join(text)\n",
    "    for word in word_list:\n",
    "        count += text.count(word)\n",
    "    return count"
   ],
   "metadata": {
    "collapsed": false,
    "ExecuteTime": {
     "end_time": "2024-03-27T12:39:03.939778800Z",
     "start_time": "2024-03-27T12:39:03.937112100Z"
    }
   },
   "id": "f1e05b40fdb906e4",
   "execution_count": 19
  },
  {
   "cell_type": "code",
   "outputs": [],
   "source": [
    "score = [count_occurrences(text, wortliste_processed)/len(text) for text in ergebnisse_saetze_processed]"
   ],
   "metadata": {
    "collapsed": false,
    "ExecuteTime": {
     "end_time": "2024-03-15T07:55:03.383942200Z",
     "start_time": "2024-03-15T07:54:40.298317900Z"
    }
   },
   "id": "71270c9b67aa852",
   "execution_count": 108
  },
  {
   "cell_type": "code",
   "outputs": [],
   "source": [
    "import pandas as pd\n",
    "\n",
    "df = pd.DataFrame({'id': sample['ID'],'text': ergebnisse_saetze, 'score': score, 'date': sample['PUBDATE'].tolist(), 'length': list(map(len, ergebnisse_saetze)), 'title': sample['TITLE'].tolist()})"
   ],
   "metadata": {
    "collapsed": false,
    "ExecuteTime": {
     "end_time": "2024-03-17T14:49:46.600221700Z",
     "start_time": "2024-03-17T14:49:46.414462300Z"
    }
   },
   "id": "f6a7072c4f3217ed",
   "execution_count": 157
  },
  {
   "cell_type": "code",
   "outputs": [],
   "source": [
    "df.sort_values('score', ascending=False, inplace=True)\n",
    "df = df[df['length'] > 10]"
   ],
   "metadata": {
    "collapsed": false,
    "ExecuteTime": {
     "end_time": "2024-03-17T14:49:54.481310300Z",
     "start_time": "2024-03-17T14:49:54.459577900Z"
    }
   },
   "id": "6a6011c180bb344c",
   "execution_count": 158
  },
  {
   "cell_type": "code",
   "outputs": [
    {
     "data": {
      "text/plain": "            id                                               text     score  \\\n128902  240919  [Der Wissenschaftsrat hat heute in Berlin ein ...  3.777778   \n283824  603294  [„Open Innovation“ – hinter diesem Konzept ste...  3.769231   \n142968  244578  [Deutschland verfügt zwar über eine im interna...  3.538462   \n233426  469787  [Ökologisch nachhaltig und gleichzeitig wirtsc...  3.533333   \n120519  173140  [In einer Übersichtsarbeit in der neuen elektr...  3.466667   \n\n              date  length                                              title  \n128902  2007-12-18      18  Pilotstudie Forschungsrating in der Chemie des...  \n283824  2014-09-15      26  Balance aus internen und externen Innnovations...  \n142968  2008-01-29      13    Neuerscheinung: Nachhaltigkeitsbarometer Fläche  \n233426  2012-03-27      15                            Studie »Green Services«  \n120519  2006-08-31      15  Wassergefiltertes Infrarot A (wIRA) verbessert...  ",
      "text/html": "<div>\n<style scoped>\n    .dataframe tbody tr th:only-of-type {\n        vertical-align: middle;\n    }\n\n    .dataframe tbody tr th {\n        vertical-align: top;\n    }\n\n    .dataframe thead th {\n        text-align: right;\n    }\n</style>\n<table border=\"1\" class=\"dataframe\">\n  <thead>\n    <tr style=\"text-align: right;\">\n      <th></th>\n      <th>id</th>\n      <th>text</th>\n      <th>score</th>\n      <th>date</th>\n      <th>length</th>\n      <th>title</th>\n    </tr>\n  </thead>\n  <tbody>\n    <tr>\n      <th>128902</th>\n      <td>240919</td>\n      <td>[Der Wissenschaftsrat hat heute in Berlin ein ...</td>\n      <td>3.777778</td>\n      <td>2007-12-18</td>\n      <td>18</td>\n      <td>Pilotstudie Forschungsrating in der Chemie des...</td>\n    </tr>\n    <tr>\n      <th>283824</th>\n      <td>603294</td>\n      <td>[„Open Innovation“ – hinter diesem Konzept ste...</td>\n      <td>3.769231</td>\n      <td>2014-09-15</td>\n      <td>26</td>\n      <td>Balance aus internen und externen Innnovations...</td>\n    </tr>\n    <tr>\n      <th>142968</th>\n      <td>244578</td>\n      <td>[Deutschland verfügt zwar über eine im interna...</td>\n      <td>3.538462</td>\n      <td>2008-01-29</td>\n      <td>13</td>\n      <td>Neuerscheinung: Nachhaltigkeitsbarometer Fläche</td>\n    </tr>\n    <tr>\n      <th>233426</th>\n      <td>469787</td>\n      <td>[Ökologisch nachhaltig und gleichzeitig wirtsc...</td>\n      <td>3.533333</td>\n      <td>2012-03-27</td>\n      <td>15</td>\n      <td>Studie »Green Services«</td>\n    </tr>\n    <tr>\n      <th>120519</th>\n      <td>173140</td>\n      <td>[In einer Übersichtsarbeit in der neuen elektr...</td>\n      <td>3.466667</td>\n      <td>2006-08-31</td>\n      <td>15</td>\n      <td>Wassergefiltertes Infrarot A (wIRA) verbessert...</td>\n    </tr>\n  </tbody>\n</table>\n</div>"
     },
     "execution_count": 163,
     "metadata": {},
     "output_type": "execute_result"
    }
   ],
   "source": [
    "df.head()"
   ],
   "metadata": {
    "collapsed": false,
    "ExecuteTime": {
     "end_time": "2024-03-18T08:42:28.110868900Z",
     "start_time": "2024-03-18T08:42:28.099154600Z"
    }
   },
   "id": "afdd86bb5ad8c3c2",
   "execution_count": 163
  },
  {
   "cell_type": "code",
   "outputs": [],
   "source": [
    "import spacy\n",
    "\n",
    "nlp = spacy.load(\"de_core_news_sm\")\n",
    "\n",
    "def create_tokens_entry(text):\n",
    "    doc = nlp(text)\n",
    "    tokens = []\n",
    "    for token in doc:\n",
    "        tokens.append({\n",
    "            \"text\": token.text,\n",
    "            \"start\": token.idx,\n",
    "            \"end\": token.idx + len(token.text),\n",
    "            \"id\": token.i\n",
    "        })\n",
    "    return tokens"
   ],
   "metadata": {
    "collapsed": false,
    "ExecuteTime": {
     "end_time": "2024-03-18T08:43:19.572214500Z",
     "start_time": "2024-03-18T08:43:18.382889100Z"
    }
   },
   "id": "6405d0dd0838cc79",
   "execution_count": 164
  },
  {
   "cell_type": "code",
   "outputs": [],
   "source": [
    "import pandas as pd\n",
    "\n",
    "def transform_list_df(df):\n",
    "    rows = []\n",
    "    for _, row in df.iterrows():\n",
    "        for sentence in row['text']: \n",
    "            rows.append({\n",
    "                'text': sentence,\n",
    "                'tokens': create_tokens_entry(sentence),\n",
    "                'meta': {'id': row['id'], 'date': row['date'], 'title': row['title']}\n",
    "            })\n",
    "    return pd.DataFrame(rows)\n",
    "\n",
    "transformed_df = transform_list_df(df)\n",
    "\n",
    "#transformed_df.to_json('output.jsonl', orient='records', lines=True)"
   ],
   "metadata": {
    "collapsed": false,
    "ExecuteTime": {
     "end_time": "2024-03-18T11:14:20.314283Z",
     "start_time": "2024-03-18T08:43:53.019189400Z"
    }
   },
   "id": "568a8799548ff39a",
   "execution_count": 166
  },
  {
   "cell_type": "code",
   "outputs": [
    {
     "data": {
      "text/plain": "'\"Diese Top-Platzierung in dem bundesweiten Forschungsrating bestätigt eindrucksvoll die Exzellenz unserer Mainzer Chemikerinnen und Chemiker\", freute sich Doris Ahnen, Ministerin für Bildung, Wissenschaft, Jugend und Kultur.'"
     },
     "execution_count": 170,
     "metadata": {},
     "output_type": "execute_result"
    }
   ],
   "source": [
    "transformed_df['text'][2]"
   ],
   "metadata": {
    "collapsed": false,
    "ExecuteTime": {
     "end_time": "2024-03-18T11:21:30.209772Z",
     "start_time": "2024-03-18T11:21:30.202205900Z"
    }
   },
   "id": "6b23e0aaf23edadf",
   "execution_count": 170
  },
  {
   "cell_type": "code",
   "outputs": [],
   "source": [
    "transformed_df.to_json('output_custom.jsonl', orient='records', lines=True)"
   ],
   "metadata": {
    "collapsed": false,
    "ExecuteTime": {
     "end_time": "2024-03-18T11:16:57.716319700Z",
     "start_time": "2024-03-18T11:16:31.768700600Z"
    }
   },
   "id": "99a076c9d6a9c987",
   "execution_count": 167
  },
  {
   "cell_type": "code",
   "outputs": [],
   "source": [
    "df_top = df[:500]"
   ],
   "metadata": {
    "collapsed": false,
    "ExecuteTime": {
     "end_time": "2024-03-15T12:49:26.598664500Z",
     "start_time": "2024-03-15T12:49:26.593561900Z"
    }
   },
   "id": "4b1913c060456dc5",
   "execution_count": 126
  },
  {
   "cell_type": "code",
   "outputs": [],
   "source": [
    "df_top.to_json('top500.json', orient='records')"
   ],
   "metadata": {
    "collapsed": false,
    "ExecuteTime": {
     "end_time": "2024-03-15T12:50:36.800307900Z",
     "start_time": "2024-03-15T12:50:36.776022800Z"
    }
   },
   "id": "65d35445d1868711",
   "execution_count": 127
  },
  {
   "cell_type": "code",
   "outputs": [],
   "source": [
    "import re\n",
    "\n",
    "wortliste_rel = open('relativierend.txt', encoding='utf-8').readlines()[1:]\n",
    "wortliste_rel = [re.sub(r'\\n', '', wort) for wort in wortliste_rel]"
   ],
   "metadata": {
    "collapsed": false,
    "ExecuteTime": {
     "end_time": "2024-03-27T12:38:36.211202700Z",
     "start_time": "2024-03-27T12:38:36.205224600Z"
    }
   },
   "id": "ed3ca343d02bf803",
   "execution_count": 17
  },
  {
   "cell_type": "code",
   "outputs": [
    {
     "data": {
      "text/plain": "['nur',\n 'lediglich',\n 'möglicherweise',\n 'könnte',\n 'eventuell',\n 'ungewiss',\n 'Vorbehalt',\n 'vorbehaltlich',\n 'vielleicht',\n 'Frühphase',\n 'präliminar',\n 'unter Umständen',\n 'Möglichkeit',\n 'Prototyp']"
     },
     "execution_count": 3,
     "metadata": {},
     "output_type": "execute_result"
    }
   ],
   "source": [
    "wortliste_rel"
   ],
   "metadata": {
    "collapsed": false,
    "ExecuteTime": {
     "end_time": "2024-03-27T10:38:42.557341800Z",
     "start_time": "2024-03-27T10:38:42.533383100Z"
    }
   },
   "id": "4476e7db6c77dd10",
   "execution_count": 3
  },
  {
   "cell_type": "code",
   "outputs": [],
   "source": [
    "wortliste_rel_processed = list(set([preprocess(word) for word in wortliste_rel]))\n",
    "wortliste_rel_processed"
   ],
   "metadata": {
    "collapsed": false
   },
   "id": "78339addd8490204"
  },
  {
   "cell_type": "code",
   "outputs": [],
   "source": [
    "score_rel = [count_occurrences(text, wortliste_rel_processed) / len(text) for text in ergebnisse_saetze_processed]\n",
    "import pandas as pd\n",
    "\n",
    "df_rel = pd.DataFrame({'id': sample['ID'], 'text': ergebnisse_saetze, 'score_rel': score_rel, 'date': sample['PUBDATE'].tolist(),\n",
    "                   'length': list(map(len, ergebnisse_saetze)), 'title': sample['TITLE'].tolist()})\n",
    "df_rel.sort_values('score_rel', ascending=False, inplace=True)\n",
    "df_rel = df_rel[df_rel['length'] > 10]"
   ],
   "metadata": {
    "collapsed": false,
    "ExecuteTime": {
     "end_time": "2024-03-27T12:47:14.888361400Z",
     "start_time": "2024-03-27T12:47:13.072499500Z"
    }
   },
   "id": "95b33ccaeb46ebc6",
   "execution_count": 26
  },
  {
   "cell_type": "code",
   "outputs": [
    {
     "data": {
      "text/plain": "            id                                               text  score_rel  \\\n38737    39277  [Vor neun Monaten startete in Nürnberg ein bun...   0.909091   \n244227  497771  [Nur 17 Prozent der Hartz-IV-Empfänger zahlen ...   0.909091   \n223569  440203  [Prof. Schöler sprach beim internationalen Kon...   0.875000   \n299980  633391  [Der Mangel an wirksamen antiviralen Medikamen...   0.857143   \n35360    35259  [Bei einem mittlerweile fünfjährigen Patienten...   0.846154   \n\n              date  length                                              title  \n38737   2001-09-27      11  PK am 11.10. mit Günther Beckstein und Renate ...  \n244227  2012-09-24      11  Private Altersvorsorge bei Geringverdienern we...  \n223569  2011-09-12      16  Prof. Schöler: Gewinnung induzierter pluripote...  \n299980  2015-06-22      14   Hochpathogene Influenzaviren frühzeitig erkennen  \n35360   2001-06-05      26     Erste Nabelschnurbluttransplantation in Bayern  ",
      "text/html": "<div>\n<style scoped>\n    .dataframe tbody tr th:only-of-type {\n        vertical-align: middle;\n    }\n\n    .dataframe tbody tr th {\n        vertical-align: top;\n    }\n\n    .dataframe thead th {\n        text-align: right;\n    }\n</style>\n<table border=\"1\" class=\"dataframe\">\n  <thead>\n    <tr style=\"text-align: right;\">\n      <th></th>\n      <th>id</th>\n      <th>text</th>\n      <th>score_rel</th>\n      <th>date</th>\n      <th>length</th>\n      <th>title</th>\n    </tr>\n  </thead>\n  <tbody>\n    <tr>\n      <th>38737</th>\n      <td>39277</td>\n      <td>[Vor neun Monaten startete in Nürnberg ein bun...</td>\n      <td>0.909091</td>\n      <td>2001-09-27</td>\n      <td>11</td>\n      <td>PK am 11.10. mit Günther Beckstein und Renate ...</td>\n    </tr>\n    <tr>\n      <th>244227</th>\n      <td>497771</td>\n      <td>[Nur 17 Prozent der Hartz-IV-Empfänger zahlen ...</td>\n      <td>0.909091</td>\n      <td>2012-09-24</td>\n      <td>11</td>\n      <td>Private Altersvorsorge bei Geringverdienern we...</td>\n    </tr>\n    <tr>\n      <th>223569</th>\n      <td>440203</td>\n      <td>[Prof. Schöler sprach beim internationalen Kon...</td>\n      <td>0.875000</td>\n      <td>2011-09-12</td>\n      <td>16</td>\n      <td>Prof. Schöler: Gewinnung induzierter pluripote...</td>\n    </tr>\n    <tr>\n      <th>299980</th>\n      <td>633391</td>\n      <td>[Der Mangel an wirksamen antiviralen Medikamen...</td>\n      <td>0.857143</td>\n      <td>2015-06-22</td>\n      <td>14</td>\n      <td>Hochpathogene Influenzaviren frühzeitig erkennen</td>\n    </tr>\n    <tr>\n      <th>35360</th>\n      <td>35259</td>\n      <td>[Bei einem mittlerweile fünfjährigen Patienten...</td>\n      <td>0.846154</td>\n      <td>2001-06-05</td>\n      <td>26</td>\n      <td>Erste Nabelschnurbluttransplantation in Bayern</td>\n    </tr>\n  </tbody>\n</table>\n</div>"
     },
     "execution_count": 27,
     "metadata": {},
     "output_type": "execute_result"
    }
   ],
   "source": [
    "df_rel.head()"
   ],
   "metadata": {
    "collapsed": false,
    "ExecuteTime": {
     "end_time": "2024-03-27T12:47:24.661618900Z",
     "start_time": "2024-03-27T12:47:24.649533100Z"
    }
   },
   "id": "6e2d32ccd1b1c798",
   "execution_count": 27
  }
 ],
 "metadata": {
  "kernelspec": {
   "display_name": "Python 3",
   "language": "python",
   "name": "python3"
  },
  "language_info": {
   "codemirror_mode": {
    "name": "ipython",
    "version": 2
   },
   "file_extension": ".py",
   "mimetype": "text/x-python",
   "name": "python",
   "nbconvert_exporter": "python",
   "pygments_lexer": "ipython2",
   "version": "2.7.6"
  }
 },
 "nbformat": 4,
 "nbformat_minor": 5
}
