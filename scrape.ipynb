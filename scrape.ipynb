{
 "cells": [
  {
   "cell_type": "code",
   "outputs": [],
   "source": [
    "import requests\n",
    "from bs4 import BeautifulSoup, NavigableString\n",
    "import re\n",
    "from datetime import datetime\n",
    "import sqlite3"
   ],
   "metadata": {
    "collapsed": false,
    "ExecuteTime": {
     "end_time": "2024-03-11T13:29:54.876790400Z",
     "start_time": "2024-03-11T13:29:54.861747600Z"
    }
   },
   "id": "7e79230e50d89a3c",
   "execution_count": 2
  },
  {
   "cell_type": "code",
   "outputs": [],
   "source": [
    "def insert_data_into_db(data, cursor):\n",
    "    cursor.execute('''CREATE TABLE IF NOT EXISTS press_releases2 (\n",
    "                    ID TEXT PRIMARY KEY,\n",
    "                    TEXT TEXT,\n",
    "                    TITLE TEXT,\n",
    "                    PUBDATE TEXT,\n",
    "                    AUTHOR TEXT,\n",
    "                    CATEGORIES TEXT,\n",
    "                    INSTITUTION_ID TEXT,\n",
    "                    INSTITUTION_NAME TEXT,\n",
    "                    AUTHOR_JOB TEXT,\n",
    "                    AUTHOR_NAME TEXT,\n",
    "                    FIELDS TEXT,\n",
    "                    RELEVANCE TEXT\n",
    "                )''')\n",
    "    \"\"\"Inserts extracted data into the database.\"\"\"\n",
    "    cursor.execute('''INSERT INTO press_releases2 (ID, TEXT, TITLE, PUBDATE, AUTHOR, CATEGORIES, INSTITUTION_ID, INSTITUTION_NAME, AUTHOR_JOB, AUTHOR_NAME, FIELDS, RELEVANCE)\n",
    "                      VALUES (:ID, :TEXT, :TITLE, :PUBDATE, :AUTHOR, :CATEGORIES, :INSTITUTION_ID, :INSTITUTION_NAME, :AUTHOR_JOB, :AUTHOR_NAME, :FIELDS, :RELEVANCE)''', data)"
   ],
   "metadata": {
    "collapsed": false,
    "ExecuteTime": {
     "end_time": "2024-03-11T13:29:56.468578100Z",
     "start_time": "2024-03-11T13:29:56.460780800Z"
    }
   },
   "id": "f1dfdbcdc73055a6",
   "execution_count": 3
  },
  {
   "cell_type": "code",
   "outputs": [],
   "source": [
    "def extract_data(url, cursor):\n",
    "\n",
    "    response = requests.get(url)\n",
    "    soup = BeautifulSoup(response.content, 'html.parser')\n",
    "    \n",
    "    items = []\n",
    "    merkmale = soup.find(lambda tag: tag.name == \"p\" and any(\"Merkmale dieser Pressemitteilung\" in s for s in tag.stripped_strings))\n",
    "    for content in merkmale.contents:\n",
    "        if isinstance(content, NavigableString):\n",
    "            items.append(content.strip())\n",
    "    items = items[1:]\n",
    "    \n",
    "    ul_tag = soup.find('ul', class_='no-bullet')\n",
    "\n",
    "    for sibling in ul_tag.find_next_siblings():\n",
    "        if sibling.name == 'p' and not sibling.find('em'):\n",
    "            text = sibling.text.strip()\n",
    "            text = re.sub(r'\\n', ' ', text)\n",
    "            text = re.sub(r'\\s+', ' ', text)\n",
    "            break\n",
    "    \n",
    "        \n",
    "    data = {\n",
    "        \"ID\": url.split('/')[-1][4:], \n",
    "        \"TEXT\": text,\n",
    "        \"TITLE\": soup.find('h4').text.strip(),\n",
    "        \"PUBDATE\": datetime.strptime(soup.find('em').text.strip(),'%d.%m.%Y %H:%M').strftime('%Y-%m-%d'),\n",
    "        \"AUTHOR\": soup.find('h5', class_='subheader').contents[0].strip(), \n",
    "        \"CATEGORIES\": items[3],\n",
    "        \"INSTITUTION_ID\": soup.find('h5', class_='subheader').find('a')['href'].split('/')[-1][11:],\n",
    "        \"INSTITUTION_NAME\": soup.find('h5', class_='subheader').find('a').text.strip(),\n",
    "        \"AUTHOR_JOB\": soup.find('h5', class_='subheader').find('em').text.strip(),\n",
    "        \"AUTHOR_NAME\": soup.find('h5', class_='subheader').contents[0].strip(), \n",
    "        \"FIELDS\": items[1],\n",
    "        \"RELEVANCE\": items[2]\n",
    "    }\n",
    "    print(data)\n",
    "    insert_data_into_db(data, cursor)"
   ],
   "metadata": {
    "collapsed": false,
    "ExecuteTime": {
     "end_time": "2024-03-11T13:30:31.667765600Z",
     "start_time": "2024-03-11T13:30:31.662634500Z"
    }
   },
   "id": "3854d3dabd104535",
   "execution_count": 6
  },
  {
   "cell_type": "code",
   "outputs": [],
   "source": [
    "#extract_data(\"https://idw-online.de/de/news649090\")"
   ],
   "metadata": {
    "collapsed": false,
    "ExecuteTime": {
     "end_time": "2024-03-11T13:07:46.963485200Z",
     "start_time": "2024-03-11T13:07:46.947582Z"
    }
   },
   "id": "276d0dc1f52e8e4e",
   "execution_count": 3
  },
  {
   "cell_type": "code",
   "outputs": [],
   "source": [
    "start_id = 649336\n",
    "#end_id = 649350\n",
    "end_id = 830053\n",
    "\n",
    "db_name = 'idwdata.db'\n",
    "conn = sqlite3.connect(db_name)\n",
    "cursor = conn.cursor()\n",
    "\n",
    "for news_id in range(start_id, end_id):\n",
    "    url = f\"https://idw-online.de/de/news{news_id}\"\n",
    "    extract_data(url)\n",
    "\n",
    "conn.commit()\n",
    "conn.close()\n",
    "print(\"Data inserted successfully.\")"
   ],
   "metadata": {
    "collapsed": false,
    "ExecuteTime": {
     "end_time": "2024-03-11T13:11:36.594611500Z",
     "start_time": "2024-03-11T13:11:28.298809400Z"
    }
   },
   "id": "df23475e7a12b8b9",
   "execution_count": 6
  },
  {
   "cell_type": "code",
   "outputs": [
    {
     "name": "stdout",
     "output_type": "stream",
     "text": [
      "{'ID': '649090', 'TEXT': 'Wegen der in den vergangenen Monaten drastisch gestiegenen Anzahl von geflüchteten Menschen müssen Kommunen neue Konzepte entwickeln, um unter anderem eine adäquate medizinische Versorgung von Asylsuchenden zu sichern. Zum Bewältigen dieser Herausforderungen hat die Kassenärztliche Vereinigung Sachsen im Herbst 2015 eine Flüchtlingsambulanz in Dresden gegründet. Auch Medizinstudierende der TU Dresden werden seitdem ehrenamtlich in die Arbeit der Flüchtlingsambulanz integriert, jedoch ohne strukturierte Vorbereitung auf die medizinischen und interkulturellen Herausforderungen. Das ändert sich nun durch das neue Wahlpflichtfach „Flüchtlingsversorgung“. „Wir wollen so die fachlichen und kulturellen Kompetenzen unserer Medizin-Studierenden für die Arzt-Patienten-Interaktion und dadurch die künftige medizinische Behandlung von Flüchtlingen verbessern“, erläutert Prof. Antje Bergmann. Die Leiterin des Bereichs Allgemeinmedizin an der Medizinischen Fakultät Carl Gustav Carus ist Mit-Initiatorin des neuen Wahlpflichtfaches. Es beinhaltet theoretische und praktische Komponenten – so werden die Studierenden auch an Patientenkonsultationen in der Sprechstunde der KVS-Flüchtlingsambulanz teilnehmen. Die im Wahlpflichtfach vermittelten Kenntnisse und Fähigkeiten werden zunehmend in der medizinischen Versorgung in allen medizinischen Fachdisziplinen gebraucht. „Bisher waren diese Themen nicht Bestandteil der Pflichtlehre und unsere Medizinstudierenden wurden im Rahmen des Medizinstudiums nicht auf die Arbeit mit Patienten unter besonderen Bedingungen – zum Beispiel Arbeiten mit Dolmetschern – vorbereitet“, erklärt Prof. Bergmann. „Im zukünftigen Arztberuf werden diese Herausforderungen in den nächsten Jahren aber drastisch ansteigen.“ Die Mitarbeiter in der Flüchtlingsambulanz behandeln täglich etwa 100 Patienten unterschiedlicher kultureller Herkunft. „Die Beratung und Behandlung dieser heterogenen Patientengruppe in der Flüchtlingsambulanz ist zeitintensiv und benötigt besonderes Wissen und Fähigkeiten“, unterstreicht Dr. Stephanie Taché, ärztliche Leiterin der KVS Flüchtlingsambulanz in Dresden und ebenfalls Mit-Initiatorin des neuen Wahlpflichtfaches „Flüchtlingsversorgung“. Es ist notwendig, dass das medizinische Personal mit den besonderen kulturellen, sozialen und medizinischen Herausforderungen – neben der Sprachbarriere zum Beispiel unterschiedliche gesundheitliche Überzeugungen und Gesundheitskompetenzen, die Rolle der Familiensysteme und der sozialen Netzwerke - vertraut ist und seine Kompetenzen in der interkulturellen Arzt-Patient-Kommunikation trainiert werden. „Hier kann das neue Fach bereits bei den angehenden Ärzten eine gute Basis schaffen“, ist sich Dr. Taché sicher. Kontakt Universitätsklinikum Carl Gustav Carus an der Technischen Universität Dresden Bereich Allgemeinmedizin, Medizinische Klinik III Henna Riemenschneider MA, MPH Wissenschaftliche Mitarbeiterin Tel.: +49 (0)351 458-19233 E-Mail: henna.riemenschneider@uniklinikum-dresden.de', 'TITLE': 'Medizinische Versorgung von Flüchtlingen: TU Dresden bereitet angehende Ärzte gezielt vor', 'PUBDATE': '2016-04-08', 'AUTHOR': 'Konrad Kästner', 'CATEGORIES': 'Kooperationen, Studium und Lehre', 'INSTITUTION_ID': '1564', 'INSTITUTION_NAME': 'Universitätsklinikum Carl Gustav Carus Dresden', 'AUTHOR_JOB': 'Presse- und Öffentlichkeitsarbeit', 'AUTHOR_NAME': 'Konrad Kästner', 'FIELDS': 'Ernährung / Gesundheit / Pflege, Medizin', 'RELEVANCE': 'überregional'}\n"
     ]
    }
   ],
   "source": [
    "db_name = 'idwdata.db'\n",
    "conn = sqlite3.connect(db_name)\n",
    "cursor = conn.cursor()\n",
    "extract_data(\"https://idw-online.de/de/news649090\", cursor)\n",
    "conn.commit()\n",
    "conn.close()"
   ],
   "metadata": {
    "collapsed": false,
    "ExecuteTime": {
     "end_time": "2024-03-11T13:32:08.814393600Z",
     "start_time": "2024-03-11T13:32:08.093602900Z"
    }
   },
   "id": "f64246d8527508c",
   "execution_count": 8
  }
 ],
 "metadata": {
  "kernelspec": {
   "display_name": "Python 3",
   "language": "python",
   "name": "python3"
  },
  "language_info": {
   "codemirror_mode": {
    "name": "ipython",
    "version": 2
   },
   "file_extension": ".py",
   "mimetype": "text/x-python",
   "name": "python",
   "nbconvert_exporter": "python",
   "pygments_lexer": "ipython2",
   "version": "2.7.6"
  }
 },
 "nbformat": 4,
 "nbformat_minor": 5
}
